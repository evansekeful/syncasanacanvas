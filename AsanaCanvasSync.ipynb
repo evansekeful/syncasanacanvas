{
  "nbformat": 4,
  "nbformat_minor": 0,
  "metadata": {
    "colab": {
      "name": "AsanaCanvasSync.ipynb",
      "provenance": [],
      "toc_visible": true,
      "mount_file_id": "1r9XLb1gwwnhG7Ul-R3nbEXXSDO2AlVTA",
      "authorship_tag": "ABX9TyMvxquXoROQyJneZY7XWUIi",
      "include_colab_link": true
    },
    "kernelspec": {
      "name": "python3",
      "display_name": "Python 3"
    }
  },
  "cells": [
    {
      "cell_type": "markdown",
      "metadata": {
        "id": "view-in-github",
        "colab_type": "text"
      },
      "source": [
        "<a href=\"https://colab.research.google.com/github/evansekeful/syncasanacanvas/blob/main/AsanaCanvasSync.ipynb\" target=\"_parent\"><img src=\"https://colab.research.google.com/assets/colab-badge.svg\" alt=\"Open In Colab\"/></a>"
      ]
    },
    {
      "cell_type": "markdown",
      "metadata": {
        "id": "5QrQXz_RSKRD"
      },
      "source": [
        "## Setup Tasks"
      ]
    },
    {
      "cell_type": "code",
      "metadata": {
        "colab": {
          "base_uri": "https://localhost:8080/"
        },
        "id": "-i3MGTPJDTkg",
        "outputId": "0d219768-f7c1-4383-e5a8-199767d7e773"
      },
      "source": [
        "# install required packages\r\n",
        "%pip install asana\r\n",
        "%pip install icalendar"
      ],
      "execution_count": 2,
      "outputs": [
        {
          "output_type": "stream",
          "text": [
            "Collecting asana\n",
            "\u001b[?25l  Downloading https://files.pythonhosted.org/packages/ab/1c/6e1f731566a23a950b922faa1a0f3fd9ba673d7a08aff35a0567c87ad1f7/asana-0.10.3-py2.py3-none-any.whl (67kB)\n",
            "\r\u001b[K     |████▉                           | 10kB 16.4MB/s eta 0:00:01\r\u001b[K     |█████████▊                      | 20kB 10.0MB/s eta 0:00:01\r\u001b[K     |██████████████▋                 | 30kB 11.6MB/s eta 0:00:01\r\u001b[K     |███████████████████▌            | 40kB 9.8MB/s eta 0:00:01\r\u001b[K     |████████████████████████▍       | 51kB 9.5MB/s eta 0:00:01\r\u001b[K     |█████████████████████████████▏  | 61kB 10.0MB/s eta 0:00:01\r\u001b[K     |████████████████████████████████| 71kB 4.1MB/s \n",
            "\u001b[?25hRequirement already satisfied: requests-oauthlib<2.0,>=0.8.0 in /usr/local/lib/python3.6/dist-packages (from asana) (1.3.0)\n",
            "Requirement already satisfied: six==1.*,>=1.10 in /usr/local/lib/python3.6/dist-packages (from asana) (1.15.0)\n",
            "Requirement already satisfied: requests==2.*,>=2.20.0 in /usr/local/lib/python3.6/dist-packages (from asana) (2.23.0)\n",
            "Requirement already satisfied: oauthlib>=3.0.0 in /usr/local/lib/python3.6/dist-packages (from requests-oauthlib<2.0,>=0.8.0->asana) (3.1.0)\n",
            "Requirement already satisfied: idna<3,>=2.5 in /usr/local/lib/python3.6/dist-packages (from requests==2.*,>=2.20.0->asana) (2.10)\n",
            "Requirement already satisfied: certifi>=2017.4.17 in /usr/local/lib/python3.6/dist-packages (from requests==2.*,>=2.20.0->asana) (2020.12.5)\n",
            "Requirement already satisfied: chardet<4,>=3.0.2 in /usr/local/lib/python3.6/dist-packages (from requests==2.*,>=2.20.0->asana) (3.0.4)\n",
            "Requirement already satisfied: urllib3!=1.25.0,!=1.25.1,<1.26,>=1.21.1 in /usr/local/lib/python3.6/dist-packages (from requests==2.*,>=2.20.0->asana) (1.24.3)\n",
            "Installing collected packages: asana\n",
            "Successfully installed asana-0.10.3\n",
            "Collecting icalendar\n",
            "\u001b[?25l  Downloading https://files.pythonhosted.org/packages/c5/14/85ffbeefb591e8be0d51e4611750653549f60b27221ce6b0f9c724b3f5c0/icalendar-4.0.7-py2.py3-none-any.whl (74kB)\n",
            "\u001b[K     |████████████████████████████████| 81kB 5.1MB/s \n",
            "\u001b[?25hRequirement already satisfied: python-dateutil in /usr/local/lib/python3.6/dist-packages (from icalendar) (2.8.1)\n",
            "Requirement already satisfied: pytz in /usr/local/lib/python3.6/dist-packages (from icalendar) (2018.9)\n",
            "Requirement already satisfied: six>=1.5 in /usr/local/lib/python3.6/dist-packages (from python-dateutil->icalendar) (1.15.0)\n",
            "Installing collected packages: icalendar\n",
            "Successfully installed icalendar-4.0.7\n"
          ],
          "name": "stdout"
        }
      ]
    },
    {
      "cell_type": "code",
      "metadata": {
        "id": "AxmCCPZMEoEJ"
      },
      "source": [
        "# import libraries\r\n",
        "import requests\r\n",
        "import json\r\n",
        "import pandas as pd\r\n",
        "import asana\r\n",
        "from icalendar import Calendar, Event\r\n",
        "from datetime import datetime\r\n",
        "from datetime import timezone\r\n",
        "from pytz import all_timezones\r\n",
        "import pytz"
      ],
      "execution_count": 17,
      "outputs": []
    },
    {
      "cell_type": "code",
      "metadata": {
        "id": "klUVmLpyZQOZ"
      },
      "source": [
        "# TODO prompt users to upload config.json"
      ],
      "execution_count": null,
      "outputs": []
    },
    {
      "cell_type": "markdown",
      "metadata": {
        "id": "bBsMiCU2HX9E"
      },
      "source": [
        "## Attention!\r\n",
        "\r\n",
        "\r\n",
        "---\r\n",
        "\r\n",
        "\r\n",
        "It is important that you map the location of the config.json below and that both packages above have been installed correctly before moving to the next step."
      ]
    },
    {
      "cell_type": "code",
      "metadata": {
        "id": "8hRvp_hAbhnN"
      },
      "source": [
        "# read config variables into environment\r\n",
        "config_path = \"/content/config.json\"\r\n",
        "\r\n",
        "with open(config_path) as json_file:\r\n",
        "    config = json.load(json_file)\r\n",
        "\r\n",
        "# TODO validate config.json schema\r\n",
        "\r\n",
        "canvas = config[\"canvas\"][\"url\"]\r\n",
        "token = config[\"asana\"][\"token\"]\r\n",
        "project = config[\"asana\"][\"project_gid\"]\r\n",
        "assignee = config[\"asana\"][\"assignee\"]\r\n",
        "workspace = config[\"asana\"][\"workspace\"]"
      ],
      "execution_count": 9,
      "outputs": []
    },
    {
      "cell_type": "code",
      "metadata": {
        "id": "6t3_G5Dr6nrJ"
      },
      "source": [
        "# set up Asana client\r\n",
        "client = asana.Client.access_token(token)"
      ],
      "execution_count": 10,
      "outputs": []
    },
    {
      "cell_type": "markdown",
      "metadata": {
        "id": "BVbRiyyQ6H4H"
      },
      "source": [
        "## Run Extract + Transform"
      ]
    },
    {
      "cell_type": "markdown",
      "metadata": {
        "id": "8iiiWBh_SRwF"
      },
      "source": [
        "Read Canvas Calendar"
      ]
    },
    {
      "cell_type": "code",
      "metadata": {
        "id": "c_c7NK75xyBI"
      },
      "source": [
        "# set up events dictionary\r\n",
        "events = {k:[] for k in [\"uid\",\"name\",\"start\",\"end\"]}"
      ],
      "execution_count": 11,
      "outputs": []
    },
    {
      "cell_type": "code",
      "metadata": {
        "id": "1Eg6_QsdErio"
      },
      "source": [
        "# import Canvas ics\r\n",
        "cal = Calendar.from_ical(requests.get(canvas).text)\r\n",
        "\r\n",
        "# set timezone to standardize timeawareness\r\n",
        "utc = pytz.utc\r\n",
        "\r\n",
        "# read ics into dictionary of events\r\n",
        "for comp in cal.walk():\r\n",
        "  if comp.get(\"UID\") == None: continue # skip blank items\r\n",
        "  if comp.get(\"SUMMARY\") == None: continue # skip blank items\r\n",
        "  if comp.get(\"UID\").startswith(\"event-assignment\"):\r\n",
        "    events[\"uid\"].append(str(comp.get(\"UID\")))\r\n",
        "  else: continue # skip events that are not assignments\r\n",
        "  events[\"name\"].append(str(comp.get(\"SUMMARY\")))\r\n",
        "  if hasattr(comp.get(\"dtstart\"), \"dt\"):\r\n",
        "    if comp.get(\"dtstart\").dt.tzname() == None:\r\n",
        "      events[\"start\"].append(utc.localize(comp.get(\"dtstart\").dt))\r\n",
        "    else:\r\n",
        "       events[\"start\"].append(comp.get(\"dtstart\").dt)\r\n",
        "  if hasattr(comp.get(\"dtend\"), \"dt\"):\r\n",
        "    if comp.get(\"dtend\").dt.tzname() == None:\r\n",
        "      events[\"end\"].append(utc.localize(comp.get(\"dtend\").dt))\r\n",
        "    else:\r\n",
        "      events[\"end\"].append(comp.get(\"dtend\").dt)"
      ],
      "execution_count": 12,
      "outputs": []
    },
    {
      "cell_type": "code",
      "metadata": {
        "id": "55tu4cp1jq4B"
      },
      "source": [
        "# create extract dataframe\r\n",
        "extract = pd.DataFrame(events)"
      ],
      "execution_count": 13,
      "outputs": []
    },
    {
      "cell_type": "markdown",
      "metadata": {
        "id": "xHCZIbbsSufC"
      },
      "source": [
        "Read Project + Clean Canvas Data"
      ]
    },
    {
      "cell_type": "code",
      "metadata": {
        "id": "DOXQPgrbS9As"
      },
      "source": [
        "# set up task list\r\n",
        "tasks = []\r\n",
        "\r\n",
        "# set up Asana client\r\n",
        "homework = {\"project\": project}\r\n",
        "options = \"notes\"\r\n",
        "result = client.tasks.get_tasks(homework,opt_fields=options)\r\n",
        "\r\n",
        "# read homework project\r\n",
        "for task in result:\r\n",
        "  tasks.append(task[\"notes\"])"
      ],
      "execution_count": 14,
      "outputs": []
    },
    {
      "cell_type": "code",
      "metadata": {
        "id": "zAU28tZm383i"
      },
      "source": [
        "# delete duplicates from extract table\r\n",
        "duplicates = tuple(tasks)\r\n",
        "extract = extract[~extract[\"uid\"].isin(duplicates)]"
      ],
      "execution_count": 15,
      "outputs": []
    },
    {
      "cell_type": "code",
      "metadata": {
        "id": "ctGkVUJFVCUw"
      },
      "source": [
        "# delete past due entries\r\n",
        "extract = extract[extract[\"end\"] > datetime.now(tz=timezone.utc)]"
      ],
      "execution_count": 18,
      "outputs": []
    },
    {
      "cell_type": "code",
      "metadata": {
        "id": "deVPuwTkgGeL"
      },
      "source": [
        "# delete unused columns\r\n",
        "extract = extract[[\"name\",\"uid\",\"start\",\"end\"]]"
      ],
      "execution_count": 19,
      "outputs": []
    },
    {
      "cell_type": "code",
      "metadata": {
        "id": "bnFx0ql2pxFl"
      },
      "source": [
        "# set timezone to localize due dates TODO: add to config file\r\n",
        "extract[\"start\"] = extract[\"start\"].dt.tz_convert('US/Pacific')\r\n",
        "extract[\"end\"] = extract[\"end\"].dt.tz_convert('US/Pacific')"
      ],
      "execution_count": 23,
      "outputs": []
    },
    {
      "cell_type": "markdown",
      "metadata": {
        "id": "7rT2j9n_Sar6"
      },
      "source": [
        "Format Calendar into JSON"
      ]
    },
    {
      "cell_type": "code",
      "metadata": {
        "id": "44cnfhB_P_o0"
      },
      "source": [
        "# iterate over rows to create list of dictionaries\r\n",
        "load = []\r\n",
        "for index, row in extract.iterrows():\r\n",
        "  temp = {}\r\n",
        "  temp[\"assignee\"] = assignee\r\n",
        "  temp[\"due_on\"] = row[\"end\"].strftime(\"%Y-%m-%d\")\r\n",
        "  temp[\"name\"] = row[\"name\"]\r\n",
        "  temp[\"notes\"] = row[\"uid\"]\r\n",
        "  temp[\"projects\"] = [project]\r\n",
        "  temp[\"resource_subtype\"] = \"default_task\"\r\n",
        "  #temp[\"start_on\"] = row[\"start\"].strftime(\"%Y-%m-%d\") # paid feature\r\n",
        "  temp[\"workspace\"] = workspace\r\n",
        "  load.append(temp)"
      ],
      "execution_count": 24,
      "outputs": []
    },
    {
      "cell_type": "code",
      "metadata": {
        "id": "z1lyPbbCYPfe"
      },
      "source": [
        "# set up validation list\r\n",
        "validate = []\r\n",
        "for task in load:\r\n",
        "  validate.append(task[\"notes\"])"
      ],
      "execution_count": 25,
      "outputs": []
    },
    {
      "cell_type": "markdown",
      "metadata": {
        "id": "EU7_4tmSWI6n"
      },
      "source": [
        "## Check Data\r\n",
        "\r\n",
        "---\r\n",
        "\r\n",
        "For running as an automation, be sure to wrap the load tasks with the following check."
      ]
    },
    {
      "cell_type": "code",
      "metadata": {
        "colab": {
          "base_uri": "https://localhost:8080/"
        },
        "id": "XGelTLKRW14I",
        "outputId": "818bed73-b73b-4c03-a031-5c35cbde6153"
      },
      "source": [
        "len(load) > 0"
      ],
      "execution_count": 26,
      "outputs": [
        {
          "output_type": "execute_result",
          "data": {
            "text/plain": [
              "True"
            ]
          },
          "metadata": {
            "tags": []
          },
          "execution_count": 26
        }
      ]
    },
    {
      "cell_type": "markdown",
      "metadata": {
        "id": "Ork28sbCXH-G"
      },
      "source": [
        "## Run Load"
      ]
    },
    {
      "cell_type": "markdown",
      "metadata": {
        "id": "PKiVdi1HTIW7"
      },
      "source": [
        "Post New Assignments to Asana"
      ]
    },
    {
      "cell_type": "code",
      "metadata": {
        "colab": {
          "base_uri": "https://localhost:8080/"
        },
        "id": "I6zP936FE5YR",
        "outputId": "72b40afe-eee9-4652-a043-2984badfbf2d"
      },
      "source": [
        "# post new assignments to Asana\r\n",
        "for data in load:\r\n",
        "  result = client.tasks.create_task(data)"
      ],
      "execution_count": 27,
      "outputs": [
        {
          "output_type": "stream",
          "text": [
            "/usr/local/lib/python3.6/dist-packages/asana/client.py:155: UserWarning: This request is affected by the \"new_user_task_lists\" deprecation. Please visit this url for more info: https://forum.asana.com/t/update-on-our-planned-api-changes-to-user-task-lists-a-k-a-my-tasks/103828\n",
            "Adding \"new_user_task_lists\" to your \"Asana-Enable\" or \"Asana-Disable\" header will opt in/out to this deprecation and suppress this warning.\n",
            "  warnings.warn(message)\n"
          ],
          "name": "stderr"
        }
      ]
    },
    {
      "cell_type": "markdown",
      "metadata": {
        "id": "E3c7J9nMTUMO"
      },
      "source": [
        "Validate New Assignments Posted"
      ]
    },
    {
      "cell_type": "code",
      "metadata": {
        "colab": {
          "base_uri": "https://localhost:8080/"
        },
        "id": "PQRPaUKCFF0R",
        "outputId": "63ef6c06-0a21-4446-ad0e-4a48f5531cf7"
      },
      "source": [
        "# set up task list\r\n",
        "tasks = []\r\n",
        "\r\n",
        "# read homework project\r\n",
        "result = client.tasks.get_tasks(homework,opt_fields=options)\r\n",
        "for task in result:\r\n",
        "  tasks.append(task[\"notes\"])\r\n",
        "\r\n",
        "# compare list with validation\r\n",
        "test = set(tasks).intersection(validate)\r\n",
        "len(validate) == len(test)"
      ],
      "execution_count": 28,
      "outputs": [
        {
          "output_type": "execute_result",
          "data": {
            "text/plain": [
              "True"
            ]
          },
          "metadata": {
            "tags": []
          },
          "execution_count": 28
        }
      ]
    },
    {
      "cell_type": "code",
      "metadata": {
        "id": "IvBWGR_6dSn1"
      },
      "source": [
        "# TODO print missing assignment ids to file"
      ],
      "execution_count": null,
      "outputs": []
    }
  ]
}