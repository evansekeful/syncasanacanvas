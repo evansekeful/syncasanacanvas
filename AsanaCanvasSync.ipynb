{
  "nbformat": 4,
  "nbformat_minor": 0,
  "metadata": {
    "colab": {
      "name": "AsanaCanvasSync.ipynb",
      "provenance": [],
      "mount_file_id": "1r9XLb1gwwnhG7Ul-R3nbEXXSDO2AlVTA",
      "authorship_tag": "ABX9TyP6hyxgcmywqxcFz6ENngTu",
      "include_colab_link": true
    },
    "kernelspec": {
      "name": "python3",
      "display_name": "Python 3"
    }
  },
  "cells": [
    {
      "cell_type": "markdown",
      "metadata": {
        "id": "view-in-github",
        "colab_type": "text"
      },
      "source": [
        "<a href=\"https://colab.research.google.com/github/evansekeful/syncasanacanvas/blob/main/AsanaCanvasSync.ipynb\" target=\"_parent\"><img src=\"https://colab.research.google.com/assets/colab-badge.svg\" alt=\"Open In Colab\"/></a>"
      ]
    },
    {
      "cell_type": "markdown",
      "metadata": {
        "id": "5QrQXz_RSKRD"
      },
      "source": [
        "## Setup Tasks"
      ]
    },
    {
      "cell_type": "code",
      "metadata": {
        "colab": {
          "base_uri": "https://localhost:8080/"
        },
        "id": "-i3MGTPJDTkg",
        "outputId": "80195f58-6419-4def-f465-7b230a6c1fbf"
      },
      "source": [
        "# install required packages\r\n",
        "%pip install asana\r\n",
        "%pip install icalendar"
      ],
      "execution_count": 1,
      "outputs": [
        {
          "output_type": "stream",
          "text": [
            "Requirement already satisfied: asana in /usr/local/lib/python3.6/dist-packages (0.10.3)\n",
            "Requirement already satisfied: requests-oauthlib<2.0,>=0.8.0 in /usr/local/lib/python3.6/dist-packages (from asana) (1.3.0)\n",
            "Requirement already satisfied: six==1.*,>=1.10 in /usr/local/lib/python3.6/dist-packages (from asana) (1.15.0)\n",
            "Requirement already satisfied: requests==2.*,>=2.20.0 in /usr/local/lib/python3.6/dist-packages (from asana) (2.23.0)\n",
            "Requirement already satisfied: oauthlib>=3.0.0 in /usr/local/lib/python3.6/dist-packages (from requests-oauthlib<2.0,>=0.8.0->asana) (3.1.0)\n",
            "Requirement already satisfied: urllib3!=1.25.0,!=1.25.1,<1.26,>=1.21.1 in /usr/local/lib/python3.6/dist-packages (from requests==2.*,>=2.20.0->asana) (1.24.3)\n",
            "Requirement already satisfied: chardet<4,>=3.0.2 in /usr/local/lib/python3.6/dist-packages (from requests==2.*,>=2.20.0->asana) (3.0.4)\n",
            "Requirement already satisfied: certifi>=2017.4.17 in /usr/local/lib/python3.6/dist-packages (from requests==2.*,>=2.20.0->asana) (2020.12.5)\n",
            "Requirement already satisfied: idna<3,>=2.5 in /usr/local/lib/python3.6/dist-packages (from requests==2.*,>=2.20.0->asana) (2.10)\n",
            "Requirement already satisfied: icalendar in /usr/local/lib/python3.6/dist-packages (4.0.7)\n",
            "Requirement already satisfied: python-dateutil in /usr/local/lib/python3.6/dist-packages (from icalendar) (2.8.1)\n",
            "Requirement already satisfied: pytz in /usr/local/lib/python3.6/dist-packages (from icalendar) (2018.9)\n",
            "Requirement already satisfied: six>=1.5 in /usr/local/lib/python3.6/dist-packages (from python-dateutil->icalendar) (1.15.0)\n"
          ],
          "name": "stdout"
        }
      ]
    },
    {
      "cell_type": "code",
      "metadata": {
        "id": "AxmCCPZMEoEJ"
      },
      "source": [
        "# import libraries\r\n",
        "import requests\r\n",
        "import json\r\n",
        "import pandas as pd\r\n",
        "import asana\r\n",
        "from icalendar import Calendar, Event\r\n",
        "from datetime import datetime\r\n",
        "from datetime import timezone\r\n",
        "import pytz"
      ],
      "execution_count": 2,
      "outputs": []
    },
    {
      "cell_type": "code",
      "metadata": {
        "id": "klUVmLpyZQOZ"
      },
      "source": [
        "# TODO prompt users to upload config.json"
      ],
      "execution_count": 3,
      "outputs": []
    },
    {
      "cell_type": "markdown",
      "metadata": {
        "id": "bBsMiCU2HX9E"
      },
      "source": [
        "## Attention!\r\n",
        "\r\n",
        "\r\n",
        "---\r\n",
        "\r\n",
        "\r\n",
        "It is important that you map the location of the config.json below and that both packages above have been installed correctly before moving to the next step."
      ]
    },
    {
      "cell_type": "code",
      "metadata": {
        "id": "8hRvp_hAbhnN"
      },
      "source": [
        "# read config variables into environment\r\n",
        "config_path = \"/content/config.json\"\r\n",
        "\r\n",
        "with open(config_path) as json_file:\r\n",
        "    config = json.load(json_file)\r\n",
        "\r\n",
        "# TODO validate config.json schema\r\n",
        "\r\n",
        "canvas = config[\"canvas\"][\"url\"]\r\n",
        "token = config[\"asana\"][\"token\"]\r\n",
        "project = config[\"asana\"][\"project_gid\"]\r\n",
        "assignee = config[\"asana\"][\"assignee\"]\r\n",
        "workspace = config[\"asana\"][\"workspace\"]"
      ],
      "execution_count": 3,
      "outputs": []
    },
    {
      "cell_type": "code",
      "metadata": {
        "id": "6t3_G5Dr6nrJ"
      },
      "source": [
        "# set up Asana client\r\n",
        "client = asana.Client.access_token(token)"
      ],
      "execution_count": 4,
      "outputs": []
    },
    {
      "cell_type": "markdown",
      "metadata": {
        "id": "BVbRiyyQ6H4H"
      },
      "source": [
        "## Run Extract + Transform"
      ]
    },
    {
      "cell_type": "markdown",
      "metadata": {
        "id": "8iiiWBh_SRwF"
      },
      "source": [
        "Read Canvas Calendar"
      ]
    },
    {
      "cell_type": "code",
      "metadata": {
        "id": "c_c7NK75xyBI"
      },
      "source": [
        "# set up events dictionary\r\n",
        "events = {k:[] for k in [\"uid\",\"name\",\"start\",\"end\"]}"
      ],
      "execution_count": 5,
      "outputs": []
    },
    {
      "cell_type": "code",
      "metadata": {
        "id": "1Eg6_QsdErio"
      },
      "source": [
        "# import Canvas ics\r\n",
        "cal = Calendar.from_ical(requests.get(canvas).text)\r\n",
        "\r\n",
        "# set timezone to standardize timeawareness\r\n",
        "utc = pytz.utc\r\n",
        "\r\n",
        "# read ics into dictionary of events\r\n",
        "for comp in cal.walk():\r\n",
        "  if comp.get(\"UID\") == None: continue # skip blank items\r\n",
        "  if comp.get(\"SUMMARY\") == None: continue # skip blank items\r\n",
        "  if comp.get(\"UID\").startswith(\"event-assignment\"):\r\n",
        "    events[\"uid\"].append(str(comp.get(\"UID\")))\r\n",
        "  else: continue # skip events that are not assignments\r\n",
        "  events[\"name\"].append(str(comp.get(\"SUMMARY\")))\r\n",
        "  if hasattr(comp.get(\"dtstart\"), \"dt\"):\r\n",
        "    if comp.get(\"dtstart\").dt.tzname() == None:\r\n",
        "      events[\"start\"].append(utc.localize(comp.get(\"dtstart\").dt))\r\n",
        "    else:\r\n",
        "       events[\"start\"].append(comp.get(\"dtstart\").dt)\r\n",
        "  if hasattr(comp.get(\"dtend\"), \"dt\"):\r\n",
        "    if comp.get(\"dtend\").dt.tzname() == None:\r\n",
        "      events[\"end\"].append(utc.localize(comp.get(\"dtend\").dt))\r\n",
        "    else:\r\n",
        "      events[\"end\"].append(comp.get(\"dtend\").dt)"
      ],
      "execution_count": 7,
      "outputs": []
    },
    {
      "cell_type": "code",
      "metadata": {
        "id": "55tu4cp1jq4B"
      },
      "source": [
        "# create extract dataframe\r\n",
        "extract = pd.DataFrame(events)"
      ],
      "execution_count": 8,
      "outputs": []
    },
    {
      "cell_type": "markdown",
      "metadata": {
        "id": "xHCZIbbsSufC"
      },
      "source": [
        "Read Project + Clean Canvas Data"
      ]
    },
    {
      "cell_type": "code",
      "metadata": {
        "id": "DOXQPgrbS9As"
      },
      "source": [
        "# set up task list\r\n",
        "tasks = []\r\n",
        "\r\n",
        "# set up Asana client\r\n",
        "homework = {\"project\": project}\r\n",
        "options = \"notes\"\r\n",
        "result = client.tasks.get_tasks(homework,opt_fields=options)\r\n",
        "\r\n",
        "# read homework project\r\n",
        "for task in result:\r\n",
        "  tasks.append(task[\"notes\"])"
      ],
      "execution_count": 9,
      "outputs": []
    },
    {
      "cell_type": "code",
      "metadata": {
        "id": "zAU28tZm383i"
      },
      "source": [
        "# delete duplicates from extract table\r\n",
        "duplicates = tuple(tasks)\r\n",
        "extract = extract[~extract[\"uid\"].isin(duplicates)]"
      ],
      "execution_count": 10,
      "outputs": []
    },
    {
      "cell_type": "code",
      "metadata": {
        "id": "ctGkVUJFVCUw"
      },
      "source": [
        "# delete past due entries\r\n",
        "extract = extract[extract[\"end\"] > datetime.now(tz=timezone.utc)]"
      ],
      "execution_count": 11,
      "outputs": []
    },
    {
      "cell_type": "code",
      "metadata": {
        "id": "deVPuwTkgGeL"
      },
      "source": [
        "# delete unused columns\r\n",
        "extract = extract[[\"name\",\"uid\",\"start\",\"end\"]]"
      ],
      "execution_count": 12,
      "outputs": []
    },
    {
      "cell_type": "markdown",
      "metadata": {
        "id": "7rT2j9n_Sar6"
      },
      "source": [
        "Format Calendar into JSON"
      ]
    },
    {
      "cell_type": "code",
      "metadata": {
        "id": "44cnfhB_P_o0"
      },
      "source": [
        "# iterate over rows to create list of dictionaries\r\n",
        "load = []\r\n",
        "for index, row in extract.iterrows():\r\n",
        "  temp = {}\r\n",
        "  temp[\"assignee\"] = assignee\r\n",
        "  temp[\"due_on\"] = row[\"end\"].strftime(\"%Y-%m-%d\")\r\n",
        "  temp[\"name\"] = row[\"name\"]\r\n",
        "  temp[\"notes\"] = row[\"uid\"]\r\n",
        "  temp[\"projects\"] = [project]\r\n",
        "  temp[\"resource_subtype\"] = \"default_task\"\r\n",
        "  #temp[\"start_on\"] = row[\"start\"].strftime(\"%Y-%m-%d\") # paid feature\r\n",
        "  temp[\"workspace\"] = workspace\r\n",
        "  load.append(temp)"
      ],
      "execution_count": 13,
      "outputs": []
    },
    {
      "cell_type": "code",
      "metadata": {
        "id": "z1lyPbbCYPfe"
      },
      "source": [
        "# set up validation list\r\n",
        "validate = []\r\n",
        "for task in load:\r\n",
        "  validate.append(task[\"notes\"])"
      ],
      "execution_count": 14,
      "outputs": []
    },
    {
      "cell_type": "markdown",
      "metadata": {
        "id": "EU7_4tmSWI6n"
      },
      "source": [
        "## Check Data\r\n",
        "\r\n",
        "---\r\n",
        "\r\n",
        "For running as an automation, be sure to wrap the load tasks with the following check."
      ]
    },
    {
      "cell_type": "code",
      "metadata": {
        "colab": {
          "base_uri": "https://localhost:8080/"
        },
        "id": "XGelTLKRW14I",
        "outputId": "5c2504d6-d920-4ed1-d5da-a50f745757ba"
      },
      "source": [
        "len(load) > 0"
      ],
      "execution_count": 15,
      "outputs": [
        {
          "output_type": "execute_result",
          "data": {
            "text/plain": [
              "True"
            ]
          },
          "metadata": {
            "tags": []
          },
          "execution_count": 15
        }
      ]
    },
    {
      "cell_type": "markdown",
      "metadata": {
        "id": "Ork28sbCXH-G"
      },
      "source": [
        "## Run Load"
      ]
    },
    {
      "cell_type": "markdown",
      "metadata": {
        "id": "PKiVdi1HTIW7"
      },
      "source": [
        "Post New Assignments to Asana"
      ]
    },
    {
      "cell_type": "code",
      "metadata": {
        "colab": {
          "base_uri": "https://localhost:8080/"
        },
        "id": "I6zP936FE5YR",
        "outputId": "22e030e9-1538-4978-87d2-a46244f1c376"
      },
      "source": [
        "# post new assignments to Asana\r\n",
        "for data in load:\r\n",
        "  result = client.tasks.create_task(data)"
      ],
      "execution_count": 16,
      "outputs": [
        {
          "output_type": "stream",
          "text": [
            "/usr/local/lib/python3.6/dist-packages/asana/client.py:155: UserWarning: This request is affected by the \"new_user_task_lists\" deprecation. Please visit this url for more info: https://forum.asana.com/t/update-on-our-planned-api-changes-to-user-task-lists-a-k-a-my-tasks/103828\n",
            "Adding \"new_user_task_lists\" to your \"Asana-Enable\" or \"Asana-Disable\" header will opt in/out to this deprecation and suppress this warning.\n",
            "  warnings.warn(message)\n"
          ],
          "name": "stderr"
        }
      ]
    },
    {
      "cell_type": "markdown",
      "metadata": {
        "id": "E3c7J9nMTUMO"
      },
      "source": [
        "Validate New Assignments Posted"
      ]
    },
    {
      "cell_type": "code",
      "metadata": {
        "colab": {
          "base_uri": "https://localhost:8080/"
        },
        "id": "PQRPaUKCFF0R",
        "outputId": "27bc2746-8aa3-47bd-d450-6f96e0322e47"
      },
      "source": [
        "# set up task list\r\n",
        "tasks = []\r\n",
        "\r\n",
        "# read homework project\r\n",
        "result = client.tasks.get_tasks(homework,opt_fields=options)\r\n",
        "for task in result:\r\n",
        "  tasks.append(task[\"notes\"])\r\n",
        "\r\n",
        "# compare list with validation\r\n",
        "test = set(tasks).intersection(validate)\r\n",
        "len(validate) == len(test)"
      ],
      "execution_count": 17,
      "outputs": [
        {
          "output_type": "execute_result",
          "data": {
            "text/plain": [
              "True"
            ]
          },
          "metadata": {
            "tags": []
          },
          "execution_count": 17
        }
      ]
    },
    {
      "cell_type": "code",
      "metadata": {
        "id": "IvBWGR_6dSn1"
      },
      "source": [
        "# TODO print missing assignment ids to file"
      ],
      "execution_count": null,
      "outputs": []
    }
  ]
}