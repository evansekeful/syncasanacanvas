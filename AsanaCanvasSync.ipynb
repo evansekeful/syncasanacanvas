{
  "nbformat": 4,
  "nbformat_minor": 0,
  "metadata": {
    "colab": {
      "name": "AsanaCanvasSync.ipynb",
      "provenance": [],
      "collapsed_sections": [],
      "toc_visible": true,
      "mount_file_id": "1r9XLb1gwwnhG7Ul-R3nbEXXSDO2AlVTA",
      "authorship_tag": "ABX9TyOhW3VMAHRzwJOhVP6Nc6ZE",
      "include_colab_link": true
    },
    "kernelspec": {
      "name": "python3",
      "display_name": "Python 3"
    }
  },
  "cells": [
    {
      "cell_type": "markdown",
      "metadata": {
        "id": "view-in-github",
        "colab_type": "text"
      },
      "source": [
        "<a href=\"https://colab.research.google.com/github/evansekeful/syncasanacanvas/blob/main/AsanaCanvasSync.ipynb\" target=\"_parent\"><img src=\"https://colab.research.google.com/assets/colab-badge.svg\" alt=\"Open In Colab\"/></a>"
      ]
    },
    {
      "cell_type": "markdown",
      "metadata": {
        "id": "5QrQXz_RSKRD"
      },
      "source": [
        "## Setup Tasks"
      ]
    },
    {
      "cell_type": "code",
      "metadata": {
        "id": "-i3MGTPJDTkg"
      },
      "source": [
        "# install required packages\n",
        "%pip install asana\n",
        "%pip install icalendar"
      ],
      "execution_count": null,
      "outputs": []
    },
    {
      "cell_type": "code",
      "metadata": {
        "id": "AxmCCPZMEoEJ"
      },
      "source": [
        "# import libraries\n",
        "import requests\n",
        "import json\n",
        "import pandas as pd\n",
        "import asana\n",
        "from icalendar import Calendar, Event\n",
        "from datetime import datetime\n",
        "from datetime import timezone\n",
        "from pytz import all_timezones\n",
        "import pytz"
      ],
      "execution_count": null,
      "outputs": []
    },
    {
      "cell_type": "code",
      "metadata": {
        "id": "klUVmLpyZQOZ"
      },
      "source": [
        "# TODO prompt users to upload config.json\n",
        "from google.colab import drive\n",
        "drive.mount('/content/drive')"
      ],
      "execution_count": null,
      "outputs": []
    },
    {
      "cell_type": "markdown",
      "metadata": {
        "id": "bBsMiCU2HX9E"
      },
      "source": [
        "## Attention!\n",
        "\n",
        "\n",
        "---\n",
        "\n",
        "\n",
        "It is important that you map the location of the config.json below and that both packages above have been installed correctly before moving to the next step."
      ]
    },
    {
      "cell_type": "code",
      "metadata": {
        "id": "8hRvp_hAbhnN"
      },
      "source": [
        "# read config variables into environment\n",
        "config_path = \"/content/drive/MyDrive/Colab Notebooks/config.json\"\n",
        "\n",
        "with open(config_path) as json_file:\n",
        "    config = json.load(json_file)\n",
        "\n",
        "# TODO validate config.json schema\n",
        "\n",
        "canvas = config[\"canvas\"][\"url\"]\n",
        "token = config[\"asana\"][\"token\"]\n",
        "project = config[\"asana\"][\"project_gid\"]\n",
        "assignee = config[\"asana\"][\"assignee\"]\n",
        "workspace = config[\"asana\"][\"workspace\"]"
      ],
      "execution_count": null,
      "outputs": []
    },
    {
      "cell_type": "code",
      "metadata": {
        "id": "6t3_G5Dr6nrJ"
      },
      "source": [
        "# set up Asana client\n",
        "client = asana.Client.access_token(token)"
      ],
      "execution_count": null,
      "outputs": []
    },
    {
      "cell_type": "markdown",
      "metadata": {
        "id": "BVbRiyyQ6H4H"
      },
      "source": [
        "## Run Extract + Transform"
      ]
    },
    {
      "cell_type": "markdown",
      "metadata": {
        "id": "8iiiWBh_SRwF"
      },
      "source": [
        "Read Canvas Calendar"
      ]
    },
    {
      "cell_type": "code",
      "metadata": {
        "id": "c_c7NK75xyBI"
      },
      "source": [
        "# set up events dictionary\n",
        "events = {k:[] for k in [\"uid\",\"name\",\"start\",\"end\"]}"
      ],
      "execution_count": null,
      "outputs": []
    },
    {
      "cell_type": "code",
      "metadata": {
        "id": "1Eg6_QsdErio"
      },
      "source": [
        "# import Canvas ics\n",
        "cal = Calendar.from_ical(requests.get(canvas).text)\n",
        "\n",
        "# set timezone to standardize timeawareness\n",
        "utc = pytz.utc\n",
        "\n",
        "# read ics into dictionary of events\n",
        "for comp in cal.walk():\n",
        "  if comp.get(\"UID\") == None: continue # skip blank items\n",
        "  if comp.get(\"SUMMARY\") == None: continue # skip blank items\n",
        "  if comp.get(\"UID\").startswith(\"event-assignment\"):\n",
        "    events[\"uid\"].append(str(comp.get(\"UID\")))\n",
        "  else: continue # skip events that are not assignments\n",
        "  events[\"name\"].append(str(comp.get(\"SUMMARY\")))\n",
        "  if hasattr(comp.get(\"dtstart\"), \"dt\"):\n",
        "    if comp.get(\"dtstart\").dt.tzname() == None:\n",
        "      events[\"start\"].append(utc.localize(comp.get(\"dtstart\").dt))\n",
        "    else:\n",
        "       events[\"start\"].append(comp.get(\"dtstart\").dt)\n",
        "  if hasattr(comp.get(\"dtend\"), \"dt\"):\n",
        "    if comp.get(\"dtend\").dt.tzname() == None:\n",
        "      events[\"end\"].append(utc.localize(comp.get(\"dtend\").dt))\n",
        "    else:\n",
        "      events[\"end\"].append(comp.get(\"dtend\").dt)"
      ],
      "execution_count": null,
      "outputs": []
    },
    {
      "cell_type": "code",
      "metadata": {
        "id": "55tu4cp1jq4B"
      },
      "source": [
        "# create extract dataframe\n",
        "extract = pd.DataFrame(events)"
      ],
      "execution_count": null,
      "outputs": []
    },
    {
      "cell_type": "markdown",
      "metadata": {
        "id": "xHCZIbbsSufC"
      },
      "source": [
        "Read Project + Clean Canvas Data"
      ]
    },
    {
      "cell_type": "code",
      "metadata": {
        "id": "DOXQPgrbS9As"
      },
      "source": [
        "# set up task list\n",
        "tasks = []\n",
        "\n",
        "# set up Asana client\n",
        "homework = {\"project\": project}\n",
        "options = \"notes\"\n",
        "result = client.tasks.get_tasks(homework,opt_fields=options)\n",
        "\n",
        "# read homework project\n",
        "for task in result:\n",
        "  tasks.append(task[\"notes\"])"
      ],
      "execution_count": null,
      "outputs": []
    },
    {
      "cell_type": "code",
      "metadata": {
        "id": "zAU28tZm383i"
      },
      "source": [
        "# delete duplicates from extract table\n",
        "duplicates = tuple(tasks)\n",
        "extract = extract[~extract[\"uid\"].isin(duplicates)]"
      ],
      "execution_count": null,
      "outputs": []
    },
    {
      "cell_type": "code",
      "metadata": {
        "id": "jKj-HTo2DK2k"
      },
      "source": [
        "#TODO create condition to update due dates"
      ],
      "execution_count": null,
      "outputs": []
    },
    {
      "cell_type": "code",
      "metadata": {
        "id": "ctGkVUJFVCUw"
      },
      "source": [
        "# delete past due entries\n",
        "extract = extract[extract[\"end\"] > datetime.now(tz=timezone.utc)]"
      ],
      "execution_count": null,
      "outputs": []
    },
    {
      "cell_type": "code",
      "metadata": {
        "id": "deVPuwTkgGeL"
      },
      "source": [
        "# delete unused columns\n",
        "extract = extract[[\"name\",\"uid\",\"start\",\"end\"]]"
      ],
      "execution_count": null,
      "outputs": []
    },
    {
      "cell_type": "code",
      "metadata": {
        "id": "bnFx0ql2pxFl"
      },
      "source": [
        "# set timezone to localize due dates TODO: add to config file\n",
        "extract[\"start\"] = extract[\"start\"].dt.tz_convert('US/Pacific')\n",
        "extract[\"end\"] = extract[\"end\"].dt.tz_convert('US/Pacific')"
      ],
      "execution_count": null,
      "outputs": []
    },
    {
      "cell_type": "markdown",
      "metadata": {
        "id": "7rT2j9n_Sar6"
      },
      "source": [
        "Format Calendar into JSON"
      ]
    },
    {
      "cell_type": "code",
      "metadata": {
        "id": "44cnfhB_P_o0"
      },
      "source": [
        "# iterate over rows to create list of dictionaries\n",
        "load = []\n",
        "for index, row in extract.iterrows():\n",
        "  temp = {}\n",
        "  temp[\"assignee\"] = assignee\n",
        "  temp[\"due_on\"] = row[\"end\"].strftime(\"%Y-%m-%d\")\n",
        "  temp[\"name\"] = row[\"name\"]\n",
        "  temp[\"notes\"] = row[\"uid\"]\n",
        "  temp[\"projects\"] = [project]\n",
        "  temp[\"resource_subtype\"] = \"default_task\"\n",
        "  #temp[\"start_on\"] = row[\"start\"].strftime(\"%Y-%m-%d\") # paid feature\n",
        "  temp[\"workspace\"] = workspace\n",
        "  load.append(temp)"
      ],
      "execution_count": null,
      "outputs": []
    },
    {
      "cell_type": "code",
      "metadata": {
        "id": "z1lyPbbCYPfe"
      },
      "source": [
        "# set up validation list\n",
        "validate = []\n",
        "for task in load:\n",
        "  validate.append(task[\"notes\"])"
      ],
      "execution_count": null,
      "outputs": []
    },
    {
      "cell_type": "markdown",
      "metadata": {
        "id": "EU7_4tmSWI6n"
      },
      "source": [
        "## Check Data\n",
        "\n",
        "---\n",
        "\n",
        "For running as an automation, be sure to wrap the load tasks with the following check."
      ]
    },
    {
      "cell_type": "code",
      "metadata": {
        "id": "XGelTLKRW14I"
      },
      "source": [
        "len(load) > 0"
      ],
      "execution_count": null,
      "outputs": []
    },
    {
      "cell_type": "markdown",
      "metadata": {
        "id": "Ork28sbCXH-G"
      },
      "source": [
        "## Run Load"
      ]
    },
    {
      "cell_type": "code",
      "metadata": {
        "id": "K5rb96osDZUc"
      },
      "source": [
        "#TODO split new vs update"
      ],
      "execution_count": null,
      "outputs": []
    },
    {
      "cell_type": "markdown",
      "metadata": {
        "id": "PKiVdi1HTIW7"
      },
      "source": [
        "Post New Assignments to Asana"
      ]
    },
    {
      "cell_type": "code",
      "metadata": {
        "id": "I6zP936FE5YR"
      },
      "source": [
        "# post new assignments to Asana\n",
        "for data in load:\n",
        "  result = client.tasks.create_task(data)"
      ],
      "execution_count": null,
      "outputs": []
    },
    {
      "cell_type": "markdown",
      "metadata": {
        "id": "E3c7J9nMTUMO"
      },
      "source": [
        "Validate New Assignments Posted"
      ]
    },
    {
      "cell_type": "code",
      "metadata": {
        "id": "PQRPaUKCFF0R"
      },
      "source": [
        "# set up task list\n",
        "tasks = []\n",
        "\n",
        "# read homework project\n",
        "result = client.tasks.get_tasks(homework,opt_fields=options)\n",
        "for task in result:\n",
        "  tasks.append(task[\"notes\"])\n",
        "\n",
        "# compare list with validation\n",
        "test = set(tasks).intersection(validate)\n",
        "len(validate) == len(test)"
      ],
      "execution_count": null,
      "outputs": []
    },
    {
      "cell_type": "code",
      "metadata": {
        "id": "IvBWGR_6dSn1"
      },
      "source": [
        "# TODO print missing assignment ids to file"
      ],
      "execution_count": null,
      "outputs": []
    }
  ]
}